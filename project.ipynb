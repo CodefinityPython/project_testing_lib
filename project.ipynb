{
  "cells": [
    {
      "cell_type": "code",
      "execution_count": 1,
      "metadata": {},
      "outputs": [],
      "source": [
        "from tests import test_default"
      ]
    },
    {
      "cell_type": "code",
      "execution_count": 2,
      "metadata": {},
      "outputs": [
        {
          "name": "stdout",
          "output_type": "stream",
          "text": [
            "\u001b[92m+----------------------------------------------------------+\u001b[0m\n",
            "\u001b[92mTest Passed!\u001b[0m\n",
            "\u001b[92m+----------------------------------------------------------+\u001b[0m\n",
            "\n"
          ]
        }
      ],
      "source": [
        "def add_numbers(a, b):\n",
        "    return(a+b)\n",
        "\n",
        "a, b = 2, 4\n",
        "number = add_numbers(a, b)\n",
        "\n",
        "test_default.test_s1_ch2(a, b, number)"
      ]
    }
  ],
  "metadata": {
    "colab": {
      "provenance": []
    },
    "kernelspec": {
      "display_name": "Python 3",
      "name": "python3"
    },
    "language_info": {
      "codemirror_mode": {
        "name": "ipython",
        "version": 3
      },
      "file_extension": ".py",
      "mimetype": "text/x-python",
      "name": "python",
      "nbconvert_exporter": "python",
      "pygments_lexer": "ipython3",
      "version": "3.11.5"
    }
  },
  "nbformat": 4,
  "nbformat_minor": 0
}
